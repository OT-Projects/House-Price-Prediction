{
 "cells": [
  {
   "cell_type": "code",
   "execution_count": null,
   "metadata": {},
   "outputs": [],
   "source": [
    "import pandas as pd\n",
    "from sklearn.datasets import fetch_california_housing\n",
    "from sklearn.model_selection import train_test_split\n",
    "from sklearn.preprocessing import StandardScaler\n",
    "import numpy as np\n",
    "from sklearn.metrics import mean_squared_error, mean_absolute_error, r2_score\n",
    "from sklearn.preprocessing import LabelEncoder\n",
    "from sklearn.preprocessing import OneHotEncoder, MinMaxScaler"
   ]
  },
  {
   "cell_type": "code",
   "execution_count": null,
   "metadata": {},
   "outputs": [],
   "source": [
    "# Download latest version\n",
    "home = pd.read_csv(\"housing.csv\")\n",
    "home.fillna(0)"
   ]
  },
  {
   "cell_type": "code",
   "execution_count": null,
   "metadata": {},
   "outputs": [],
   "source": [
    "# Feauturize\n",
    "num_cols = [\"price\",'area', 'bedrooms','bathrooms','stories','parking']\n",
    "categorical_cols = ['mainroad', 'guestroom', 'basement', 'hotwaterheating', 'airconditioning', 'prefarea', 'furnishingstatus']\n",
    "\n",
    "# One-hot encode categorical features\n",
    "encoder = OneHotEncoder()\n",
    "encoded_features = encoder.fit_transform(home[categorical_cols])\n",
    "\n",
    "# Normalize house data numerical features\n",
    "scaler = StandardScaler()\n",
    "scaled_features = scaler.fit_transform(home[num_cols])\n",
    "x = np.concatenate([encoded_features.toarray(), scaled_features], axis=1)\n",
    "y = home['price']\n",
    "X = x\n",
    "Y = y"
   ]
  },
  {
   "cell_type": "code",
   "execution_count": null,
   "metadata": {},
   "outputs": [],
   "source": [
    "X_train, X_test, Y_train, Y_test = train_test_split(X,Y, test_size=0.2, random_state=42)"
   ]
  },
  {
   "cell_type": "code",
   "execution_count": null,
   "metadata": {},
   "outputs": [],
   "source": [
    "# initialize weights\n",
    "def initialize_weights(row):\n",
    "    # create a zero vector same as the number of columns of the input\n",
    "    w = np.zeros(row.shape[1]) \n",
    "    # bias b is a scalar value\n",
    "    b = np.array([0], dtype = np.float64) \n",
    "    return w,b"
   ]
  },
  {
   "cell_type": "code",
   "execution_count": null,
   "metadata": {},
   "outputs": [],
   "source": [
    "# compute gradient w.r.t w\n",
    "def gradient(x, y, w, b, n, reg_lambda):\n",
    "    yhat = np.dot(x, w) + b #predicted values\n",
    "    gradient_w = x.T.dot(yhat - y) + (reg_lambda * w / n) #Weight gradient\n",
    "    gradient_b = np.sum(yhat - y) #Bias gradient\n",
    "    return gradient_w, gradient_b"
   ]
  },
  {
   "cell_type": "code",
   "execution_count": null,
   "metadata": {},
   "outputs": [],
   "source": [
    "def model(X, y, epochs, lr, reg_lambda, batch_size = 1):\n",
    "    # n: total number of datapoints\n",
    "    n = len(X)\n",
    "    # initialize weights\n",
    "    w, b = initialize_weights(X)\n",
    "    for epoch in range(epochs):\n",
    "        # for each epoch we will perform SGD till we reach all the points.\n",
    "        for idx in range(0, n, batch_size):\n",
    "            # create a batch for X and y using the batch_size\n",
    "            X_batch = X[idx:idx+batch_size,:]\n",
    "            y_batch = y[idx:idx+batch_size]\n",
    "            # Calculate the gradients of the loss function \n",
    "            dw, db = gradient(X_batch, y_batch, w, b, n, reg_lambda)\n",
    "            dw = np.sum(dw, axis = 0)\n",
    "            db = np.sum(db, axis = 0)\n",
    "            # update the weights using the gradients derived above\n",
    "            w -= lr*dw\n",
    "            b -= lr*db\n",
    "    return w,b"
   ]
  },
  {
   "cell_type": "code",
   "execution_count": null,
   "metadata": {},
   "outputs": [],
   "source": [
    "#hyperparemeters\n",
    "epochs = 20\n",
    "reg_lambda = 0.0001\n",
    "lr =0.01\n",
    "\n",
    "w,b = model(X_train, Y_train, epochs, lr, reg_lambda, batch_size = 1)"
   ]
  },
  {
   "cell_type": "code",
   "execution_count": null,
   "metadata": {},
   "outputs": [],
   "source": [
    "y_pred = np.dot(X_test,w) + b\n",
    "mse = mean_squared_error(Y_test,y_pred)\n",
    "rmse = np.sqrt(mse)\n",
    "mae = mean_absolute_error(Y_test, y_pred)\n",
    "r2 = r2_score(Y_test, y_pred)\n",
    "print(\"Mean Squared Error:\", mse)\n",
    "print(\"Root Mean Squared Error:\", rmse)\n",
    "print(\"Mean Absolute Error:\", mae)\n",
    "print(\"R-squared:\", r2)\n",
    "\n",
    "print()\n",
    "\n",
    "for actual, predicted in zip(Y_test, y_pred):\n",
    "    print(\"Actual Price:\", actual)\n",
    "    print(\"Predicted Price:\", predicted)\n",
    "    print()"
   ]
  }
 ],
 "metadata": {
  "kernelspec": {
   "display_name": "Python 3",
   "language": "python",
   "name": "python3"
  },
  "language_info": {
   "codemirror_mode": {
    "name": "ipython",
    "version": 3
   },
   "file_extension": ".py",
   "mimetype": "text/x-python",
   "name": "python",
   "nbconvert_exporter": "python",
   "pygments_lexer": "ipython3",
   "version": "3.12.7"
  }
 },
 "nbformat": 4,
 "nbformat_minor": 2
}
